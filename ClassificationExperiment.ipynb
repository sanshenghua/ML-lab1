{
 "cells": [
  {
   "cell_type": "code",
   "execution_count": 1,
   "metadata": {
    "collapsed": true
   },
   "outputs": [],
   "source": [
    "import pandas as pd\n",
    "from sklearn.datasets import load_svmlight_file\n",
    "from sklearn.model_selection import train_test_split\n",
    "import numpy as np"
   ]
  },
  {
   "cell_type": "code",
   "execution_count": 2,
   "metadata": {},
   "outputs": [
    {
     "name": "stdout",
     "output_type": "stream",
     "text": [
      "(690, 14)\n"
     ]
    }
   ],
   "source": [
    "X,y = load_svmlight_file(\"C:/Users/zhancongcong/Desktop/MLdata/australian_scale.txt\")\n",
    "\n",
    "X = X.toarray()\n",
    "print(X.shape)"
   ]
  },
  {
   "cell_type": "code",
   "execution_count": 3,
   "metadata": {},
   "outputs": [
    {
     "data": {
      "text/plain": [
       "(690, 15)"
      ]
     },
     "execution_count": 3,
     "metadata": {},
     "output_type": "execute_result"
    }
   ],
   "source": [
    "X = np.c_[np.ones((X.shape[0],1)),X]\n",
    "X.shape #添加一列全1"
   ]
  },
  {
   "cell_type": "code",
   "execution_count": 4,
   "metadata": {
    "collapsed": true
   },
   "outputs": [],
   "source": [
    "X_train, X_test, y_train, y_test = train_test_split(X, y, test_size=0.33, random_state=42) #分割训练集和验证集"
   ]
  },
  {
   "cell_type": "code",
   "execution_count": 5,
   "metadata": {
    "scrolled": false
   },
   "outputs": [
    {
     "name": "stdout",
     "output_type": "stream",
     "text": [
      "准确率为：\n",
      "0.8728070175438597\n"
     ]
    },
    {
     "data": {
      "image/png": "[encoded data removed]",
      "text/plain": [
       "<matplotlib.figure.Figure at 0x1f0fa406278>"
      ]
     },
     "metadata": {},
     "output_type": "display_data"
    }
   ],
   "source": [
    "import numpy as np\n",
    "\n",
    "def svm(samples, y, samples_t, y_t, step_size=0.0001, max_iter_count=1000, C=0.9):  #梯度下降\n",
    "    sample_num, dim = samples.shape\n",
    "    sample_num_t, dim = samples_t.shape\n",
    "    LOSS = [] #训练集的loss\n",
    "    LOSS_T = [] #验证集的loss\n",
    "    w = np.ones((dim,), dtype=np.float32)\n",
    "    loss = 10 \n",
    "    iter_count = 0\n",
    "    while loss > 0.001 and iter_count < max_iter_count:\n",
    "        loss = 0\n",
    "        loss_t = 0\n",
    "        error = np.zeros((dim,), dtype=np.float32) #初始化梯度\n",
    "        for i in range(sample_num):\n",
    "            flag = 1-y[i]*(np.dot(w, samples[i]))\n",
    "            if flag>=0:                 \n",
    "                for j in range(dim):\n",
    "                    error[j] += samples[i][j]*y[i]                          \n",
    "        for j in range(dim):\n",
    "            w[j] -= step_size * (w[j]-C*error[j]) #更新w\n",
    "        for i in range(sample_num):\n",
    "            flag = 1-y[i]*(np.dot(w, samples[i]))\n",
    "            if flag>=0:\n",
    "                error = 1-y[i]*(np.dot(w, samples[i])) #每个没被正确分类样本的loss\n",
    "                loss += error     \n",
    "        loss = C*loss + 0.5*(np.dot(w, w))    #训练集loss    \n",
    "        LOSS.append(loss/sample_num)        \n",
    "        for i in range(sample_num_t):\n",
    "            flag = 1-y_t[i]*(np.dot(w, samples_t[i]))\n",
    "            if flag>=0:\n",
    "                error_t = 1-y_t[i]*(np.dot(w, samples_t[i]))\n",
    "                loss_t += error_t     \n",
    "        loss_t = C*loss_t + 0.5*(np.dot(w, w))   #验证集loss   \n",
    "        LOSS_T.append(loss_t/sample_num_t)\n",
    "        iter_count+=1;\n",
    "    return w,LOSS,LOSS_T\n",
    "\n",
    "import matplotlib.pyplot as plt\n",
    "if __name__ == '__main__': \n",
    "    w,LOSS,LOSS_T = svm(X_train, y_train, X_test, y_test)      \n",
    "    count1=0\n",
    "    for i in range(X_test.shape[0]):\n",
    "        w_x = np.dot(w, X_test[i])\n",
    "        if y_test[i]==1 and w_x>0:\n",
    "            count1+=1\n",
    "        if y_test[i]==-1 and w_x<0:\n",
    "            count1+=1\n",
    "    print(\"准确率为：\") \n",
    "    print(count1/X_test.shape[0])\n",
    "    plt.figure(figsize=(10,6))\n",
    "    plt.plot( LOSS, 'r', label=\"trainData\")\n",
    "    plt.plot( LOSS_T, 'b', label=\"testData\")\n",
    "    plt.xlabel('iter_count')  \n",
    "    plt.ylabel('loss')\n",
    "    plt.legend()\n",
    "    plt.show()"
   ]
  },
  {
   "cell_type": "code",
   "execution_count": null,
   "metadata": {
    "collapsed": true
   },
   "outputs": [],
   "source": []
  }
 ],
 "metadata": {
  "kernelspec": {
   "display_name": "Python 3",
   "language": "python",
   "name": "python3"
  },
  "language_info": {
   "codemirror_mode": {
    "name": "ipython",
    "version": 3
   },
   "file_extension": ".py",
   "mimetype": "text/x-python",
   "name": "python",
   "nbconvert_exporter": "python",
   "pygments_lexer": "ipython3",
   "version": "3.6.3"
  }
 },
 "nbformat": 4,
 "nbformat_minor": 2
}
