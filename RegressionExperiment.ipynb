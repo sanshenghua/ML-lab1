{
 "cells": [
  {
   "cell_type": "code",
   "execution_count": 3,
   "metadata": {
    "collapsed": true
   },
   "outputs": [],
   "source": [
    "import pandas as pd\n",
    "from sklearn.datasets import load_svmlight_file\n",
    "from sklearn.model_selection import train_test_split\n",
    "import numpy as np"
   ]
  },
  {
   "cell_type": "code",
   "execution_count": 4,
   "metadata": {
    "collapsed": true
   },
   "outputs": [],
   "source": [
    "X,y = load_svmlight_file(\"C:/Users/zhancongcong/Desktop/MLdata/housing_scale.txt\")"
   ]
  },
  {
   "cell_type": "code",
   "execution_count": 5,
   "metadata": {},
   "outputs": [
    {
     "data": {
      "text/plain": [
       "(506, 13)"
      ]
     },
     "execution_count": 5,
     "metadata": {},
     "output_type": "execute_result"
    }
   ],
   "source": [
    "X = X.toarray() #转化成数组类型\n",
    "X.shape"
   ]
  },
  {
   "cell_type": "code",
   "execution_count": 6,
   "metadata": {},
   "outputs": [
    {
     "data": {
      "text/plain": [
       "(506, 14)"
      ]
     },
     "execution_count": 6,
     "metadata": {},
     "output_type": "execute_result"
    }
   ],
   "source": [
    "X = np.c_[np.ones((X.shape[0],1)),X]\n",
    "X.shape #添加一列全1"
   ]
  },
  {
   "cell_type": "code",
   "execution_count": 7,
   "metadata": {
    "collapsed": true
   },
   "outputs": [],
   "source": [
    "X_train, X_test, y_train, y_test = train_test_split(X, y, test_size=0.33, random_state=42) #分割训练集和验证集"
   ]
  },
  {
   "cell_type": "code",
   "execution_count": 8,
   "metadata": {},
   "outputs": [
    {
     "data": {
      "image/png": "[encoded data removed]",
      "text/plain": [
       "<matplotlib.figure.Figure at 0x17874e5bf28>"
      ]
     },
     "metadata": {},
     "output_type": "display_data"
    }
   ],
   "source": [
    "import numpy as np\n",
    "\n",
    "def bgd(samples, y,samples_t, y_t, step_size=0.0002, max_iter_count=500):  #梯度下降\n",
    "    sample_num, dim = samples.shape\n",
    "    sample_num_t, dim = samples_t.shape\n",
    "    LOSS = [] #训练集的loss\n",
    "    LOSS_T = [] #验证集的loss\n",
    "    w = np.ones((dim,), dtype=np.float32)\n",
    "    loss = 10 \n",
    "    iter_count = 0\n",
    "    while loss > 0.001 and iter_count < max_iter_count:\n",
    "        loss = 0\n",
    "        loss_t = 0\n",
    "        G = np.zeros((dim,), dtype=np.float32) #初始化梯度\n",
    "        for i in range(sample_num):\n",
    "            predict_y = np.dot(w, samples[i])\n",
    "            for j in range(dim):\n",
    "                G[j] += (y[i] - predict_y) * samples[i][j]\n",
    "        for j in range(dim):\n",
    "            w[j] += step_size * 2 * G[j]               \n",
    "        for i in range(sample_num):\n",
    "            predict_y = np.dot(w, samples[i])\n",
    "            error = (1 / sample_num ) * np.power((predict_y - y[i]), 2)\n",
    "            loss += error\n",
    "        LOSS.append(loss)\n",
    "        for i in range(sample_num_t):\n",
    "            predict_y_t = np.dot(w, samples_t[i])\n",
    "            error_t = (1 / sample_num_t ) * np.power((predict_y_t - y_t[i]), 2)\n",
    "            loss_t += error_t\n",
    "        LOSS_T.append(loss_t)        \n",
    "        iter_count += 1\n",
    "    return w,LOSS,LOSS_T\n",
    "   \n",
    "import matplotlib.pyplot as plt\n",
    "if __name__ == '__main__': \n",
    "    w,LOSS,LOSS_T = bgd(X_train, y_train, X_test, y_test)   \n",
    "    plt.figure(figsize=(10,6)) \n",
    "    plt.plot( LOSS, 'r', label=\"trainData\" ) #红线表示训练集 \n",
    "    plt.plot( LOSS_T, 'k', label=\"testData\") #黑线表示验证集\n",
    "    plt.xlabel('iter_count')  \n",
    "    plt.ylabel('loss')\n",
    "    plt.legend()\n",
    "    plt.show()"
   ]
  },
  {
   "cell_type": "code",
   "execution_count": null,
   "metadata": {
    "collapsed": true
   },
   "outputs": [],
   "source": []
  }
 ],
 "metadata": {
  "kernelspec": {
   "display_name": "Python 3",
   "language": "python",
   "name": "python3"
  },
  "language_info": {
   "codemirror_mode": {
    "name": "ipython",
    "version": 3
   },
   "file_extension": ".py",
   "mimetype": "text/x-python",
   "name": "python",
   "nbconvert_exporter": "python",
   "pygments_lexer": "ipython3",
   "version": "3.6.3"
  }
 },
 "nbformat": 4,
 "nbformat_minor": 2
}
